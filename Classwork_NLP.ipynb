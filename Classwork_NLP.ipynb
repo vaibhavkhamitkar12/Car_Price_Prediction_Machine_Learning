{
  "cells": [
    {
      "cell_type": "markdown",
      "metadata": {
        "id": "view-in-github",
        "colab_type": "text"
      },
      "source": [
        "<a href=\"https://colab.research.google.com/github/vaibhavkhamitkar12/Car_Price_Prediction_Machine_Learning/blob/main/Classwork_NLP.ipynb\" target=\"_parent\"><img src=\"https://colab.research.google.com/assets/colab-badge.svg\" alt=\"Open In Colab\"/></a>"
      ]
    },
    {
      "cell_type": "code",
      "source": [
        "!pip install nltk"
      ],
      "metadata": {
        "id": "awXpXITamyQ_",
        "outputId": "f7bae95b-69fd-4624-f254-8a7b58966d16",
        "colab": {
          "base_uri": "https://localhost:8080/"
        }
      },
      "execution_count": 2,
      "outputs": [
        {
          "output_type": "stream",
          "name": "stdout",
          "text": [
            "Requirement already satisfied: nltk in /usr/local/lib/python3.10/dist-packages (3.8.1)\n",
            "Requirement already satisfied: click in /usr/local/lib/python3.10/dist-packages (from nltk) (8.1.7)\n",
            "Requirement already satisfied: joblib in /usr/local/lib/python3.10/dist-packages (from nltk) (1.4.2)\n",
            "Requirement already satisfied: regex>=2021.8.3 in /usr/local/lib/python3.10/dist-packages (from nltk) (2024.5.15)\n",
            "Requirement already satisfied: tqdm in /usr/local/lib/python3.10/dist-packages (from nltk) (4.66.4)\n"
          ]
        }
      ]
    },
    {
      "cell_type": "code",
      "source": [
        "nltk.download('punkt')\n",
        "nltk.download('stopwords')\n",
        "nltk.download('lemmatizer')\n",
        "nltk.download('wordnet')\n",
        "nltk.download('averaged_perceptron_tagger')\n",
        "tagsets = nltk.download('tagsets')"
      ],
      "metadata": {
        "id": "qOTW4DibnVTN",
        "outputId": "705c34a1-cb7c-47e1-df02-4a9e8ae5294e",
        "colab": {
          "base_uri": "https://localhost:8080/"
        }
      },
      "execution_count": 35,
      "outputs": [
        {
          "output_type": "stream",
          "name": "stderr",
          "text": [
            "[nltk_data] Downloading package punkt to /root/nltk_data...\n",
            "[nltk_data]   Package punkt is already up-to-date!\n",
            "[nltk_data] Downloading package stopwords to /root/nltk_data...\n",
            "[nltk_data]   Package stopwords is already up-to-date!\n",
            "[nltk_data] Error loading lemmatizer: Package 'lemmatizer' not found\n",
            "[nltk_data]     in index\n",
            "[nltk_data] Downloading package wordnet to /root/nltk_data...\n",
            "[nltk_data]   Package wordnet is already up-to-date!\n",
            "[nltk_data] Downloading package averaged_perceptron_tagger to\n",
            "[nltk_data]     /root/nltk_data...\n",
            "[nltk_data]   Package averaged_perceptron_tagger is already up-to-\n",
            "[nltk_data]       date!\n",
            "[nltk_data] Downloading package tagsets to /root/nltk_data...\n",
            "[nltk_data]   Unzipping help/tagsets.zip.\n"
          ]
        }
      ]
    },
    {
      "cell_type": "code",
      "source": [
        "import nltk\n",
        "from nltk import sent_tokenize\n",
        "from nltk import word_tokenize\n",
        "\n",
        "\n",
        "textfile = open('/content/mytext.txt')\n",
        "\n",
        "text = textfile.read()\n",
        "\n",
        "print(text)"
      ],
      "metadata": {
        "id": "MzKInIw8mVTy",
        "outputId": "8bfa0153-105c-4c63-86cb-e13e1ee9bae1",
        "colab": {
          "base_uri": "https://localhost:8080/"
        }
      },
      "execution_count": 3,
      "outputs": [
        {
          "output_type": "stream",
          "name": "stdout",
          "text": [
            "My name is Kartik Solanki.\n",
            "I am eleven years old boy.\n",
            "My birthday is on 6th March.\n",
            "I study in class 5 in Central School.\n",
            "I live in a joint family with my grandparents, parents and sister.\n",
            "I love my family very much and enjoy spending time with them.\n",
            "I have many friends but Yuvraj is my best friend.\n",
            "My hobbies are reading, drawing and playing cricket.\n",
            "I have one sister who is three years older than me.\n",
            "I like to help my mother in kitchen.\n"
          ]
        }
      ]
    },
    {
      "cell_type": "code",
      "source": [
        "words = word_tokenize(text)\n",
        "words"
      ],
      "metadata": {
        "id": "_EXFfvzrm_gb",
        "outputId": "357cd4a0-08a8-4749-8339-5b4246da9cbe",
        "colab": {
          "base_uri": "https://localhost:8080/"
        }
      },
      "execution_count": 7,
      "outputs": [
        {
          "output_type": "execute_result",
          "data": {
            "text/plain": [
              "['My',\n",
              " 'name',\n",
              " 'is',\n",
              " 'Kartik',\n",
              " 'Solanki',\n",
              " '.',\n",
              " 'I',\n",
              " 'am',\n",
              " 'eleven',\n",
              " 'years',\n",
              " 'old',\n",
              " 'boy',\n",
              " '.',\n",
              " 'My',\n",
              " 'birthday',\n",
              " 'is',\n",
              " 'on',\n",
              " '6th',\n",
              " 'March',\n",
              " '.',\n",
              " 'I',\n",
              " 'study',\n",
              " 'in',\n",
              " 'class',\n",
              " '5',\n",
              " 'in',\n",
              " 'Central',\n",
              " 'School',\n",
              " '.',\n",
              " 'I',\n",
              " 'live',\n",
              " 'in',\n",
              " 'a',\n",
              " 'joint',\n",
              " 'family',\n",
              " 'with',\n",
              " 'my',\n",
              " 'grandparents',\n",
              " ',',\n",
              " 'parents',\n",
              " 'and',\n",
              " 'sister',\n",
              " '.',\n",
              " 'I',\n",
              " 'love',\n",
              " 'my',\n",
              " 'family',\n",
              " 'very',\n",
              " 'much',\n",
              " 'and',\n",
              " 'enjoy',\n",
              " 'spending',\n",
              " 'time',\n",
              " 'with',\n",
              " 'them',\n",
              " '.',\n",
              " 'I',\n",
              " 'have',\n",
              " 'many',\n",
              " 'friends',\n",
              " 'but',\n",
              " 'Yuvraj',\n",
              " 'is',\n",
              " 'my',\n",
              " 'best',\n",
              " 'friend',\n",
              " '.',\n",
              " 'My',\n",
              " 'hobbies',\n",
              " 'are',\n",
              " 'reading',\n",
              " ',',\n",
              " 'drawing',\n",
              " 'and',\n",
              " 'playing',\n",
              " 'cricket',\n",
              " '.',\n",
              " 'I',\n",
              " 'have',\n",
              " 'one',\n",
              " 'sister',\n",
              " 'who',\n",
              " 'is',\n",
              " 'three',\n",
              " 'years',\n",
              " 'older',\n",
              " 'than',\n",
              " 'me',\n",
              " '.',\n",
              " 'I',\n",
              " 'like',\n",
              " 'to',\n",
              " 'help',\n",
              " 'my',\n",
              " 'mother',\n",
              " 'in',\n",
              " 'kitchen',\n",
              " '.']"
            ]
          },
          "metadata": {},
          "execution_count": 7
        }
      ]
    },
    {
      "cell_type": "code",
      "source": [
        "from nltk.corpus import stopwords\n",
        "stop_words = set(stopwords.words('english'))\n",
        "fil_list = []\n",
        "for word in words:\n",
        "  if word.casefold() not in stop_words:\n",
        "    fil_list.append(word)\n",
        "\n",
        "print(fil_list)\n"
      ],
      "metadata": {
        "id": "mF1gwpKynaK9",
        "outputId": "b846e598-3c52-45c9-c99d-eb5ec9c8f548",
        "colab": {
          "base_uri": "https://localhost:8080/"
        }
      },
      "execution_count": 10,
      "outputs": [
        {
          "output_type": "stream",
          "name": "stdout",
          "text": [
            "['name', 'Kartik', 'Solanki', '.', 'eleven', 'years', 'old', 'boy', '.', 'birthday', '6th', 'March', '.', 'study', 'class', '5', 'Central', 'School', '.', 'live', 'joint', 'family', 'grandparents', ',', 'parents', 'sister', '.', 'love', 'family', 'much', 'enjoy', 'spending', 'time', '.', 'many', 'friends', 'Yuvraj', 'best', 'friend', '.', 'hobbies', 'reading', ',', 'drawing', 'playing', 'cricket', '.', 'one', 'sister', 'three', 'years', 'older', '.', 'like', 'help', 'mother', 'kitchen', '.']\n"
          ]
        }
      ]
    },
    {
      "cell_type": "code",
      "source": [
        "len(fil_list)"
      ],
      "metadata": {
        "id": "K9CRzF2bpLyM",
        "outputId": "89fa4b71-3ba4-439d-9002-2b699ad86756",
        "colab": {
          "base_uri": "https://localhost:8080/"
        }
      },
      "execution_count": 11,
      "outputs": [
        {
          "output_type": "execute_result",
          "data": {
            "text/plain": [
              "58"
            ]
          },
          "metadata": {},
          "execution_count": 11
        }
      ]
    },
    {
      "cell_type": "code",
      "source": [
        "from nltk.stem import PorterStemmer\n",
        "stemmer = PorterStemmer()\n",
        "stemmed_word = [stemmer.stem(word) for word in words]\n",
        "stemmed_word"
      ],
      "metadata": {
        "id": "XZTBxDlDpljz",
        "outputId": "2ddcad27-6628-4f73-eb4d-377cfb509563",
        "colab": {
          "base_uri": "https://localhost:8080/"
        }
      },
      "execution_count": 13,
      "outputs": [
        {
          "output_type": "execute_result",
          "data": {
            "text/plain": [
              "['my',\n",
              " 'name',\n",
              " 'is',\n",
              " 'kartik',\n",
              " 'solanki',\n",
              " '.',\n",
              " 'i',\n",
              " 'am',\n",
              " 'eleven',\n",
              " 'year',\n",
              " 'old',\n",
              " 'boy',\n",
              " '.',\n",
              " 'my',\n",
              " 'birthday',\n",
              " 'is',\n",
              " 'on',\n",
              " '6th',\n",
              " 'march',\n",
              " '.',\n",
              " 'i',\n",
              " 'studi',\n",
              " 'in',\n",
              " 'class',\n",
              " '5',\n",
              " 'in',\n",
              " 'central',\n",
              " 'school',\n",
              " '.',\n",
              " 'i',\n",
              " 'live',\n",
              " 'in',\n",
              " 'a',\n",
              " 'joint',\n",
              " 'famili',\n",
              " 'with',\n",
              " 'my',\n",
              " 'grandpar',\n",
              " ',',\n",
              " 'parent',\n",
              " 'and',\n",
              " 'sister',\n",
              " '.',\n",
              " 'i',\n",
              " 'love',\n",
              " 'my',\n",
              " 'famili',\n",
              " 'veri',\n",
              " 'much',\n",
              " 'and',\n",
              " 'enjoy',\n",
              " 'spend',\n",
              " 'time',\n",
              " 'with',\n",
              " 'them',\n",
              " '.',\n",
              " 'i',\n",
              " 'have',\n",
              " 'mani',\n",
              " 'friend',\n",
              " 'but',\n",
              " 'yuvraj',\n",
              " 'is',\n",
              " 'my',\n",
              " 'best',\n",
              " 'friend',\n",
              " '.',\n",
              " 'my',\n",
              " 'hobbi',\n",
              " 'are',\n",
              " 'read',\n",
              " ',',\n",
              " 'draw',\n",
              " 'and',\n",
              " 'play',\n",
              " 'cricket',\n",
              " '.',\n",
              " 'i',\n",
              " 'have',\n",
              " 'one',\n",
              " 'sister',\n",
              " 'who',\n",
              " 'is',\n",
              " 'three',\n",
              " 'year',\n",
              " 'older',\n",
              " 'than',\n",
              " 'me',\n",
              " '.',\n",
              " 'i',\n",
              " 'like',\n",
              " 'to',\n",
              " 'help',\n",
              " 'my',\n",
              " 'mother',\n",
              " 'in',\n",
              " 'kitchen',\n",
              " '.']"
            ]
          },
          "metadata": {},
          "execution_count": 13
        }
      ]
    },
    {
      "cell_type": "code",
      "source": [
        "len(stemmed_word)"
      ],
      "metadata": {
        "id": "JGXlQtV1qQhx",
        "outputId": "04a18ad5-6ab7-4694-c222-9c9adbc7c822",
        "colab": {
          "base_uri": "https://localhost:8080/"
        }
      },
      "execution_count": 14,
      "outputs": [
        {
          "output_type": "execute_result",
          "data": {
            "text/plain": [
              "98"
            ]
          },
          "metadata": {},
          "execution_count": 14
        }
      ]
    },
    {
      "cell_type": "code",
      "source": [
        "from nltk.stem import WordNetLemmatizer\n",
        "lemmatizer = WordNetLemmatizer()\n",
        "lemmatized_word = [lemmatizer.lemmatize(word) for word in words]\n",
        "lemmatized_word"
      ],
      "metadata": {
        "id": "pwNdLf0ZrGSX",
        "outputId": "8f2f7697-a28e-4628-c565-0b311ffb0f2f",
        "colab": {
          "base_uri": "https://localhost:8080/"
        }
      },
      "execution_count": 19,
      "outputs": [
        {
          "output_type": "execute_result",
          "data": {
            "text/plain": [
              "['My',\n",
              " 'name',\n",
              " 'is',\n",
              " 'Kartik',\n",
              " 'Solanki',\n",
              " '.',\n",
              " 'I',\n",
              " 'am',\n",
              " 'eleven',\n",
              " 'year',\n",
              " 'old',\n",
              " 'boy',\n",
              " '.',\n",
              " 'My',\n",
              " 'birthday',\n",
              " 'is',\n",
              " 'on',\n",
              " '6th',\n",
              " 'March',\n",
              " '.',\n",
              " 'I',\n",
              " 'study',\n",
              " 'in',\n",
              " 'class',\n",
              " '5',\n",
              " 'in',\n",
              " 'Central',\n",
              " 'School',\n",
              " '.',\n",
              " 'I',\n",
              " 'live',\n",
              " 'in',\n",
              " 'a',\n",
              " 'joint',\n",
              " 'family',\n",
              " 'with',\n",
              " 'my',\n",
              " 'grandparent',\n",
              " ',',\n",
              " 'parent',\n",
              " 'and',\n",
              " 'sister',\n",
              " '.',\n",
              " 'I',\n",
              " 'love',\n",
              " 'my',\n",
              " 'family',\n",
              " 'very',\n",
              " 'much',\n",
              " 'and',\n",
              " 'enjoy',\n",
              " 'spending',\n",
              " 'time',\n",
              " 'with',\n",
              " 'them',\n",
              " '.',\n",
              " 'I',\n",
              " 'have',\n",
              " 'many',\n",
              " 'friend',\n",
              " 'but',\n",
              " 'Yuvraj',\n",
              " 'is',\n",
              " 'my',\n",
              " 'best',\n",
              " 'friend',\n",
              " '.',\n",
              " 'My',\n",
              " 'hobby',\n",
              " 'are',\n",
              " 'reading',\n",
              " ',',\n",
              " 'drawing',\n",
              " 'and',\n",
              " 'playing',\n",
              " 'cricket',\n",
              " '.',\n",
              " 'I',\n",
              " 'have',\n",
              " 'one',\n",
              " 'sister',\n",
              " 'who',\n",
              " 'is',\n",
              " 'three',\n",
              " 'year',\n",
              " 'older',\n",
              " 'than',\n",
              " 'me',\n",
              " '.',\n",
              " 'I',\n",
              " 'like',\n",
              " 'to',\n",
              " 'help',\n",
              " 'my',\n",
              " 'mother',\n",
              " 'in',\n",
              " 'kitchen',\n",
              " '.']"
            ]
          },
          "metadata": {},
          "execution_count": 19
        }
      ]
    },
    {
      "cell_type": "code",
      "source": [
        "len(lemmatized_word)"
      ],
      "metadata": {
        "id": "CYUohsV3rpTT",
        "outputId": "d9060902-a067-48b3-aa98-dd5aca3a66b2",
        "colab": {
          "base_uri": "https://localhost:8080/"
        }
      },
      "execution_count": 20,
      "outputs": [
        {
          "output_type": "execute_result",
          "data": {
            "text/plain": [
              "98"
            ]
          },
          "metadata": {},
          "execution_count": 20
        }
      ]
    },
    {
      "cell_type": "code",
      "source": [
        "lemmatizer.lemmatize('better', pos='a')"
      ],
      "metadata": {
        "id": "6kGFhAXisreG",
        "outputId": "2804d454-4ec8-4cf8-ecdf-b62a82216a48",
        "colab": {
          "base_uri": "https://localhost:8080/",
          "height": 35
        }
      },
      "execution_count": 21,
      "outputs": [
        {
          "output_type": "execute_result",
          "data": {
            "text/plain": [
              "'good'"
            ],
            "application/vnd.google.colaboratory.intrinsic+json": {
              "type": "string"
            }
          },
          "metadata": {},
          "execution_count": 21
        }
      ]
    },
    {
      "cell_type": "code",
      "source": [
        "lemmatizer.lemmatize('went', pos='v')"
      ],
      "metadata": {
        "id": "WfI_0JpfszPN",
        "outputId": "5ae3f0b6-1d42-419a-c18e-77eb161bc725",
        "colab": {
          "base_uri": "https://localhost:8080/",
          "height": 35
        }
      },
      "execution_count": 22,
      "outputs": [
        {
          "output_type": "execute_result",
          "data": {
            "text/plain": [
              "'go'"
            ],
            "application/vnd.google.colaboratory.intrinsic+json": {
              "type": "string"
            }
          },
          "metadata": {},
          "execution_count": 22
        }
      ]
    },
    {
      "cell_type": "code",
      "source": [
        "lemmatizer.lemmatize('ran', pos='v')"
      ],
      "metadata": {
        "id": "QI5F7M8us_xI",
        "outputId": "464905d5-337a-4484-91ee-97350d6dd275",
        "colab": {
          "base_uri": "https://localhost:8080/",
          "height": 35
        }
      },
      "execution_count": 25,
      "outputs": [
        {
          "output_type": "execute_result",
          "data": {
            "text/plain": [
              "'run'"
            ],
            "application/vnd.google.colaboratory.intrinsic+json": {
              "type": "string"
            }
          },
          "metadata": {},
          "execution_count": 25
        }
      ]
    },
    {
      "cell_type": "code",
      "source": [
        "from nltk import pos_tag\n",
        "pos = pos_tag(words)\n",
        "pos"
      ],
      "metadata": {
        "id": "2TPd9OCstHZ7",
        "outputId": "89ecf911-1687-43cd-bff3-ee17bd84f930",
        "colab": {
          "base_uri": "https://localhost:8080/"
        }
      },
      "execution_count": 31,
      "outputs": [
        {
          "output_type": "execute_result",
          "data": {
            "text/plain": [
              "[('My', 'PRP$'),\n",
              " ('name', 'NN'),\n",
              " ('is', 'VBZ'),\n",
              " ('Kartik', 'NNP'),\n",
              " ('Solanki', 'NNP'),\n",
              " ('.', '.'),\n",
              " ('I', 'PRP'),\n",
              " ('am', 'VBP'),\n",
              " ('eleven', 'RB'),\n",
              " ('years', 'NNS'),\n",
              " ('old', 'JJ'),\n",
              " ('boy', 'NN'),\n",
              " ('.', '.'),\n",
              " ('My', 'PRP$'),\n",
              " ('birthday', 'NN'),\n",
              " ('is', 'VBZ'),\n",
              " ('on', 'IN'),\n",
              " ('6th', 'CD'),\n",
              " ('March', 'NNP'),\n",
              " ('.', '.'),\n",
              " ('I', 'PRP'),\n",
              " ('study', 'VBP'),\n",
              " ('in', 'IN'),\n",
              " ('class', 'NN'),\n",
              " ('5', 'CD'),\n",
              " ('in', 'IN'),\n",
              " ('Central', 'JJ'),\n",
              " ('School', 'NNP'),\n",
              " ('.', '.'),\n",
              " ('I', 'PRP'),\n",
              " ('live', 'VBP'),\n",
              " ('in', 'IN'),\n",
              " ('a', 'DT'),\n",
              " ('joint', 'JJ'),\n",
              " ('family', 'NN'),\n",
              " ('with', 'IN'),\n",
              " ('my', 'PRP$'),\n",
              " ('grandparents', 'NNS'),\n",
              " (',', ','),\n",
              " ('parents', 'NNS'),\n",
              " ('and', 'CC'),\n",
              " ('sister', 'NN'),\n",
              " ('.', '.'),\n",
              " ('I', 'PRP'),\n",
              " ('love', 'VBP'),\n",
              " ('my', 'PRP$'),\n",
              " ('family', 'NN'),\n",
              " ('very', 'RB'),\n",
              " ('much', 'RB'),\n",
              " ('and', 'CC'),\n",
              " ('enjoy', 'VB'),\n",
              " ('spending', 'NN'),\n",
              " ('time', 'NN'),\n",
              " ('with', 'IN'),\n",
              " ('them', 'PRP'),\n",
              " ('.', '.'),\n",
              " ('I', 'PRP'),\n",
              " ('have', 'VBP'),\n",
              " ('many', 'JJ'),\n",
              " ('friends', 'NNS'),\n",
              " ('but', 'CC'),\n",
              " ('Yuvraj', 'NNP'),\n",
              " ('is', 'VBZ'),\n",
              " ('my', 'PRP$'),\n",
              " ('best', 'JJS'),\n",
              " ('friend', 'NN'),\n",
              " ('.', '.'),\n",
              " ('My', 'PRP$'),\n",
              " ('hobbies', 'NNS'),\n",
              " ('are', 'VBP'),\n",
              " ('reading', 'VBG'),\n",
              " (',', ','),\n",
              " ('drawing', 'VBG'),\n",
              " ('and', 'CC'),\n",
              " ('playing', 'VBG'),\n",
              " ('cricket', 'NN'),\n",
              " ('.', '.'),\n",
              " ('I', 'PRP'),\n",
              " ('have', 'VBP'),\n",
              " ('one', 'CD'),\n",
              " ('sister', 'NN'),\n",
              " ('who', 'WP'),\n",
              " ('is', 'VBZ'),\n",
              " ('three', 'CD'),\n",
              " ('years', 'NNS'),\n",
              " ('older', 'JJR'),\n",
              " ('than', 'IN'),\n",
              " ('me', 'PRP'),\n",
              " ('.', '.'),\n",
              " ('I', 'PRP'),\n",
              " ('like', 'VBP'),\n",
              " ('to', 'TO'),\n",
              " ('help', 'VB'),\n",
              " ('my', 'PRP$'),\n",
              " ('mother', 'NN'),\n",
              " ('in', 'IN'),\n",
              " ('kitchen', 'NN'),\n",
              " ('.', '.')]"
            ]
          },
          "metadata": {},
          "execution_count": 31
        }
      ]
    },
    {
      "cell_type": "code",
      "source": [
        "nltk.help.upenn_tagset()"
      ],
      "metadata": {
        "id": "45GGxCApufRS",
        "outputId": "c66b9d87-8efe-4ce3-e1a2-284a8a0c0865",
        "colab": {
          "base_uri": "https://localhost:8080/"
        }
      },
      "execution_count": 36,
      "outputs": [
        {
          "output_type": "stream",
          "name": "stdout",
          "text": [
            "$: dollar\n",
            "    $ -$ --$ A$ C$ HK$ M$ NZ$ S$ U.S.$ US$\n",
            "'': closing quotation mark\n",
            "    ' ''\n",
            "(: opening parenthesis\n",
            "    ( [ {\n",
            "): closing parenthesis\n",
            "    ) ] }\n",
            ",: comma\n",
            "    ,\n",
            "--: dash\n",
            "    --\n",
            ".: sentence terminator\n",
            "    . ! ?\n",
            ":: colon or ellipsis\n",
            "    : ; ...\n",
            "CC: conjunction, coordinating\n",
            "    & 'n and both but either et for less minus neither nor or plus so\n",
            "    therefore times v. versus vs. whether yet\n",
            "CD: numeral, cardinal\n",
            "    mid-1890 nine-thirty forty-two one-tenth ten million 0.5 one forty-\n",
            "    seven 1987 twenty '79 zero two 78-degrees eighty-four IX '60s .025\n",
            "    fifteen 271,124 dozen quintillion DM2,000 ...\n",
            "DT: determiner\n",
            "    all an another any both del each either every half la many much nary\n",
            "    neither no some such that the them these this those\n",
            "EX: existential there\n",
            "    there\n",
            "FW: foreign word\n",
            "    gemeinschaft hund ich jeux habeas Haementeria Herr K'ang-si vous\n",
            "    lutihaw alai je jour objets salutaris fille quibusdam pas trop Monte\n",
            "    terram fiche oui corporis ...\n",
            "IN: preposition or conjunction, subordinating\n",
            "    astride among uppon whether out inside pro despite on by throughout\n",
            "    below within for towards near behind atop around if like until below\n",
            "    next into if beside ...\n",
            "JJ: adjective or numeral, ordinal\n",
            "    third ill-mannered pre-war regrettable oiled calamitous first separable\n",
            "    ectoplasmic battery-powered participatory fourth still-to-be-named\n",
            "    multilingual multi-disciplinary ...\n",
            "JJR: adjective, comparative\n",
            "    bleaker braver breezier briefer brighter brisker broader bumper busier\n",
            "    calmer cheaper choosier cleaner clearer closer colder commoner costlier\n",
            "    cozier creamier crunchier cuter ...\n",
            "JJS: adjective, superlative\n",
            "    calmest cheapest choicest classiest cleanest clearest closest commonest\n",
            "    corniest costliest crassest creepiest crudest cutest darkest deadliest\n",
            "    dearest deepest densest dinkiest ...\n",
            "LS: list item marker\n",
            "    A A. B B. C C. D E F First G H I J K One SP-44001 SP-44002 SP-44005\n",
            "    SP-44007 Second Third Three Two * a b c d first five four one six three\n",
            "    two\n",
            "MD: modal auxiliary\n",
            "    can cannot could couldn't dare may might must need ought shall should\n",
            "    shouldn't will would\n",
            "NN: noun, common, singular or mass\n",
            "    common-carrier cabbage knuckle-duster Casino afghan shed thermostat\n",
            "    investment slide humour falloff slick wind hyena override subhumanity\n",
            "    machinist ...\n",
            "NNP: noun, proper, singular\n",
            "    Motown Venneboerger Czestochwa Ranzer Conchita Trumplane Christos\n",
            "    Oceanside Escobar Kreisler Sawyer Cougar Yvette Ervin ODI Darryl CTCA\n",
            "    Shannon A.K.C. Meltex Liverpool ...\n",
            "NNPS: noun, proper, plural\n",
            "    Americans Americas Amharas Amityvilles Amusements Anarcho-Syndicalists\n",
            "    Andalusians Andes Andruses Angels Animals Anthony Antilles Antiques\n",
            "    Apache Apaches Apocrypha ...\n",
            "NNS: noun, common, plural\n",
            "    undergraduates scotches bric-a-brac products bodyguards facets coasts\n",
            "    divestitures storehouses designs clubs fragrances averages\n",
            "    subjectivists apprehensions muses factory-jobs ...\n",
            "PDT: pre-determiner\n",
            "    all both half many quite such sure this\n",
            "POS: genitive marker\n",
            "    ' 's\n",
            "PRP: pronoun, personal\n",
            "    hers herself him himself hisself it itself me myself one oneself ours\n",
            "    ourselves ownself self she thee theirs them themselves they thou thy us\n",
            "PRP$: pronoun, possessive\n",
            "    her his mine my our ours their thy your\n",
            "RB: adverb\n",
            "    occasionally unabatingly maddeningly adventurously professedly\n",
            "    stirringly prominently technologically magisterially predominately\n",
            "    swiftly fiscally pitilessly ...\n",
            "RBR: adverb, comparative\n",
            "    further gloomier grander graver greater grimmer harder harsher\n",
            "    healthier heavier higher however larger later leaner lengthier less-\n",
            "    perfectly lesser lonelier longer louder lower more ...\n",
            "RBS: adverb, superlative\n",
            "    best biggest bluntest earliest farthest first furthest hardest\n",
            "    heartiest highest largest least less most nearest second tightest worst\n",
            "RP: particle\n",
            "    aboard about across along apart around aside at away back before behind\n",
            "    by crop down ever fast for forth from go high i.e. in into just later\n",
            "    low more off on open out over per pie raising start teeth that through\n",
            "    under unto up up-pp upon whole with you\n",
            "SYM: symbol\n",
            "    % & ' '' ''. ) ). * + ,. < = > @ A[fj] U.S U.S.S.R * ** ***\n",
            "TO: \"to\" as preposition or infinitive marker\n",
            "    to\n",
            "UH: interjection\n",
            "    Goodbye Goody Gosh Wow Jeepers Jee-sus Hubba Hey Kee-reist Oops amen\n",
            "    huh howdy uh dammit whammo shucks heck anyways whodunnit honey golly\n",
            "    man baby diddle hush sonuvabitch ...\n",
            "VB: verb, base form\n",
            "    ask assemble assess assign assume atone attention avoid bake balkanize\n",
            "    bank begin behold believe bend benefit bevel beware bless boil bomb\n",
            "    boost brace break bring broil brush build ...\n",
            "VBD: verb, past tense\n",
            "    dipped pleaded swiped regummed soaked tidied convened halted registered\n",
            "    cushioned exacted snubbed strode aimed adopted belied figgered\n",
            "    speculated wore appreciated contemplated ...\n",
            "VBG: verb, present participle or gerund\n",
            "    telegraphing stirring focusing angering judging stalling lactating\n",
            "    hankerin' alleging veering capping approaching traveling besieging\n",
            "    encrypting interrupting erasing wincing ...\n",
            "VBN: verb, past participle\n",
            "    multihulled dilapidated aerosolized chaired languished panelized used\n",
            "    experimented flourished imitated reunifed factored condensed sheared\n",
            "    unsettled primed dubbed desired ...\n",
            "VBP: verb, present tense, not 3rd person singular\n",
            "    predominate wrap resort sue twist spill cure lengthen brush terminate\n",
            "    appear tend stray glisten obtain comprise detest tease attract\n",
            "    emphasize mold postpone sever return wag ...\n",
            "VBZ: verb, present tense, 3rd person singular\n",
            "    bases reconstructs marks mixes displeases seals carps weaves snatches\n",
            "    slumps stretches authorizes smolders pictures emerges stockpiles\n",
            "    seduces fizzes uses bolsters slaps speaks pleads ...\n",
            "WDT: WH-determiner\n",
            "    that what whatever which whichever\n",
            "WP: WH-pronoun\n",
            "    that what whatever whatsoever which who whom whosoever\n",
            "WP$: WH-pronoun, possessive\n",
            "    whose\n",
            "WRB: Wh-adverb\n",
            "    how however whence whenever where whereby whereever wherein whereof why\n",
            "``: opening quotation mark\n",
            "    ` ``\n"
          ]
        }
      ]
    },
    {
      "cell_type": "code",
      "source": [
        "grammar = \"NP: {<DT>?<JJ>*<NN>}\"\n",
        "cp = nltk.RegexpParser(grammar)\n",
        "result = cp.parse(pos)\n",
        "print(result)\n",
        "result.pretty_print()"
      ],
      "metadata": {
        "id": "SbedJdH6yDLs",
        "outputId": "7dbcfebd-1322-471f-e969-89bc41f18260",
        "colab": {
          "base_uri": "https://localhost:8080/"
        }
      },
      "execution_count": 38,
      "outputs": [
        {
          "output_type": "stream",
          "name": "stdout",
          "text": [
            "(S\n",
            "  My/PRP$\n",
            "  (NP name/NN)\n",
            "  is/VBZ\n",
            "  Kartik/NNP\n",
            "  Solanki/NNP\n",
            "  ./.\n",
            "  I/PRP\n",
            "  am/VBP\n",
            "  eleven/RB\n",
            "  years/NNS\n",
            "  (NP old/JJ boy/NN)\n",
            "  ./.\n",
            "  My/PRP$\n",
            "  (NP birthday/NN)\n",
            "  is/VBZ\n",
            "  on/IN\n",
            "  6th/CD\n",
            "  March/NNP\n",
            "  ./.\n",
            "  I/PRP\n",
            "  study/VBP\n",
            "  in/IN\n",
            "  (NP class/NN)\n",
            "  5/CD\n",
            "  in/IN\n",
            "  Central/JJ\n",
            "  School/NNP\n",
            "  ./.\n",
            "  I/PRP\n",
            "  live/VBP\n",
            "  in/IN\n",
            "  (NP a/DT joint/JJ family/NN)\n",
            "  with/IN\n",
            "  my/PRP$\n",
            "  grandparents/NNS\n",
            "  ,/,\n",
            "  parents/NNS\n",
            "  and/CC\n",
            "  (NP sister/NN)\n",
            "  ./.\n",
            "  I/PRP\n",
            "  love/VBP\n",
            "  my/PRP$\n",
            "  (NP family/NN)\n",
            "  very/RB\n",
            "  much/RB\n",
            "  and/CC\n",
            "  enjoy/VB\n",
            "  (NP spending/NN)\n",
            "  (NP time/NN)\n",
            "  with/IN\n",
            "  them/PRP\n",
            "  ./.\n",
            "  I/PRP\n",
            "  have/VBP\n",
            "  many/JJ\n",
            "  friends/NNS\n",
            "  but/CC\n",
            "  Yuvraj/NNP\n",
            "  is/VBZ\n",
            "  my/PRP$\n",
            "  best/JJS\n",
            "  (NP friend/NN)\n",
            "  ./.\n",
            "  My/PRP$\n",
            "  hobbies/NNS\n",
            "  are/VBP\n",
            "  reading/VBG\n",
            "  ,/,\n",
            "  drawing/VBG\n",
            "  and/CC\n",
            "  playing/VBG\n",
            "  (NP cricket/NN)\n",
            "  ./.\n",
            "  I/PRP\n",
            "  have/VBP\n",
            "  one/CD\n",
            "  (NP sister/NN)\n",
            "  who/WP\n",
            "  is/VBZ\n",
            "  three/CD\n",
            "  years/NNS\n",
            "  older/JJR\n",
            "  than/IN\n",
            "  me/PRP\n",
            "  ./.\n",
            "  I/PRP\n",
            "  like/VBP\n",
            "  to/TO\n",
            "  help/VB\n",
            "  my/PRP$\n",
            "  (NP mother/NN)\n",
            "  in/IN\n",
            "  (NP kitchen/NN)\n",
            "  ./.)\n",
            "                                                                                                                                                                                                                                                                                                                                                                                      S                                                                                                                                                                                                                                                                                                                                                                                                                               \n",
            "    __________________________________________________________________________________________________________________________________________________________________________________________________________________________________________________________________________________________________________________________________________________________________________________|_________________________________________________________________________________________________________________________________________________________________________________________________________________________________________________________________________________________________________________________________________________________________________________________________________________________       \n",
            "   |      |        |           |       |    |     |        |         |      |     |      |      |     |        |      |    |       |       |    |     |       |          |       |    |      |       |      |       |           |          |       |        |     |    |      |        |       |       |      |       |        |       |      |    |      |        |         |        |        |        |       |       |      |     |         |         |         |       |       |        |         |       |    |      |       |      |      |       |         |         |        |      |     |    |      |       |      |       |      |    |     NP           NP             NP        NP            NP                  NP        NP         NP        NP       NP        NP         NP        NP        NP    \n",
            "   |      |        |           |       |    |     |        |         |      |     |      |      |     |        |      |    |       |       |    |     |       |          |       |    |      |       |      |       |           |          |       |        |     |    |      |        |       |       |      |       |        |       |      |    |      |        |         |        |        |        |       |       |      |     |         |         |         |       |       |        |         |       |    |      |       |      |      |       |         |         |        |      |     |    |      |       |      |       |      |    |     |       _____|____          |         |       ______|_________          |         |          |         |        |         |          |         |         |      \n",
            "My/PRP$ is/VBZ Kartik/NNP Solanki/NNP ./. I/PRP am/VBP eleven/RB years/NNS ./. My/PRP$ is/VBZ on/IN 6th/CD March/NNP ./. I/PRP study/VBP in/IN 5/CD in/IN Central/JJ School/NNP ./. I/PRP live/VBP in/IN with/IN my/PRP$ grandparents/NNS ,/, parents/NNS and/CC ./. I/PRP love/VBP my/PRP$ very/RB much/RB and/CC enjoy/VB with/IN them/PRP ./. I/PRP have/VBP many/JJ friends/NNS but/CC Yuvraj/NNP is/VBZ my/PRP$ best/JJS ./. My/PRP$ hobbies/NNS are/VBP reading/VBG ,/, drawing/VBG and/CC playing/VBG ./. I/PRP have/VBP one/CD who/WP is/VBZ three/CD years/NNS older/JJR than/IN me/PRP ./. I/PRP like/VBP to/TO help/VB my/PRP$ in/IN ./. name/NN old/JJ     boy/NN birthday/NN class/NN a/DT joint/JJ family/NN sister/NN family/NN spending/NN time/NN friend/NN cricket/NN sister/NN mother/NN kitchen/NN\n",
            "\n"
          ]
        }
      ]
    },
    {
      "cell_type": "code",
      "source": [
        "quote = \"anything I want to wrote is whatever I want to write\"\n",
        "wiq = word_tokenize(quote)\n",
        "wiq"
      ],
      "metadata": {
        "id": "pEEez8G40n5n",
        "outputId": "2ee9320c-9793-4857-d201-06e6ad63a950",
        "colab": {
          "base_uri": "https://localhost:8080/"
        }
      },
      "execution_count": 40,
      "outputs": [
        {
          "output_type": "execute_result",
          "data": {
            "text/plain": [
              "['anything',\n",
              " 'I',\n",
              " 'want',\n",
              " 'to',\n",
              " 'wrote',\n",
              " 'is',\n",
              " 'whater',\n",
              " 'I',\n",
              " 'want',\n",
              " 'to',\n",
              " 'write']"
            ]
          },
          "metadata": {},
          "execution_count": 40
        }
      ]
    },
    {
      "cell_type": "code",
      "source": [
        "nltk.FreqDist(words).plot()"
      ],
      "metadata": {
        "id": "NeJVuLZH2KF9",
        "outputId": "22e7ea25-8411-4c7d-9b25-49419cd9dc27",
        "colab": {
          "base_uri": "https://localhost:8080/",
          "height": 546
        }
      },
      "execution_count": 41,
      "outputs": [
        {
          "output_type": "display_data",
          "data": {
            "text/plain": [
              "<Figure size 640x480 with 1 Axes>"
            ],
            "image/png": "[encoded data removed]"
          },
          "metadata": {}
        },
        {
          "output_type": "execute_result",
          "data": {
            "text/plain": [
              "<Axes: xlabel='Samples', ylabel='Counts'>"
            ]
          },
          "metadata": {},
          "execution_count": 41
        }
      ]
    }
  ],
  "metadata": {
    "colab": {
      "name": "Welcome To Colab",
      "provenance": [],
      "include_colab_link": true
    },
    "kernelspec": {
      "display_name": "Python 3",
      "name": "python3"
    }
  },
  "nbformat": 4,
  "nbformat_minor": 0
}